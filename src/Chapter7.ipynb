{
 "cells": [
  {
   "cell_type": "markdown",
   "metadata": {},
   "source": [
    "# Notebook examples for Chapter 7"
   ]
  },
  {
   "cell_type": "code",
   "execution_count": 1,
   "metadata": {},
   "outputs": [],
   "source": [
    "import warnings\n",
    "# these are innocuous but irritating\n",
    "warnings.filterwarnings(\"ignore\", message=\"numpy.dtype size changed\")\n",
    "warnings.filterwarnings(\"ignore\", message=\"numpy.ufunc size changed\")\n",
    "%matplotlib inline"
   ]
  },
  {
   "cell_type": "markdown",
   "metadata": {},
   "source": [
    "## Probabilistic label relaxation"
   ]
  },
  {
   "cell_type": "code",
   "execution_count": null,
   "metadata": {},
   "outputs": [],
   "source": [
    "run scripts/classify -a 4 -p [1,2,3,4] -L [10,10] -P imagery/AST_20070501_pca.tif imagery/train.shp"
   ]
  },
  {
   "cell_type": "code",
   "execution_count": null,
   "metadata": {},
   "outputs": [],
   "source": [
    "run scripts/plr imagery/AST_20070501_pca_classprobs.tif"
   ]
  },
  {
   "cell_type": "code",
   "execution_count": null,
   "metadata": {},
   "outputs": [],
   "source": [
    "%run scripts/dispms -f imagery/AST_20070501_pca_class.tif -c -d [400,400,300,300] \\\n",
    "-F imagery/AST_20070501_pca_classprobs_plr.tif -C -D [400,400,300,300] \\\n",
    "#-s '/home/mort/LaTeX/new projects/CRC4/Chapter7/fig7_1.eps'"
   ]
  },
  {
   "cell_type": "markdown",
   "metadata": {},
   "source": [
    "## Accuracy assessment"
   ]
  },
  {
   "cell_type": "code",
   "execution_count": 2,
   "metadata": {},
   "outputs": [
    {
     "data": {
      "text/plain": [
       "[<matplotlib.lines.Line2D at 0x1e349e3a160>]"
      ]
     },
     "execution_count": 2,
     "metadata": {},
     "output_type": "execute_result"
    },
    {
     "data": {
      "image/png": "[encoded data removed]",
      "text/plain": [
       "<Figure size 432x288 with 1 Axes>"
      ]
     },
     "metadata": {
      "needs_background": "light"
     },
     "output_type": "display_data"
    }
   ],
   "source": [
    "import numpy as np\n",
    "from scipy.stats import binom\n",
    "import matplotlib.pyplot as plt\n",
    "\n",
    "theta = 0.4\n",
    "n = 2000\n",
    "x = np.arange(600, 1000)\n",
    "# pmf = probability mass function\n",
    "plt.plot(x, binom.pmf(x, n, theta))\n",
    "\n",
    "#plt.savefig('/home/mort/LaTeX/new projects/CRC4/Chapter7/fig7_2.eps')"
   ]
  },
  {
   "cell_type": "code",
   "execution_count": null,
   "metadata": {},
   "outputs": [],
   "source": [
    "run scripts/ct imagery/AST_20070501_pca_MaxLike.tst"
   ]
  },
  {
   "cell_type": "markdown",
   "metadata": {},
   "source": [
    "### Accuracy assessment on the GEE"
   ]
  },
  {
   "cell_type": "code",
   "execution_count": 4,
   "metadata": {},
   "outputs": [
    {
     "ename": "SyntaxError",
     "evalue": "invalid syntax (3420780723.py, line 26)",
     "output_type": "error",
     "traceback": [
      "\u001b[1;36m  Input \u001b[1;32mIn [4]\u001b[1;36m\u001b[0m\n\u001b[1;33m    print 'train pixels: %i'%trainData.size().getInfo()\u001b[0m\n\u001b[1;37m          ^\u001b[0m\n\u001b[1;31mSyntaxError\u001b[0m\u001b[1;31m:\u001b[0m invalid syntax\n"
     ]
    }
   ],
   "source": [
    "import ee\n",
    "ee.Initialize()\n",
    "\n",
    "# first 4 principal components of ASTER image\n",
    "image = ee.Image('users/mortcanty/supervisedclassification/AST_20070501_pca') \\\n",
    "            .select(0,1,2,3)\n",
    "\n",
    "# training data\n",
    "table = ee.FeatureCollection('users/mortcanty/supervisedclassification/train')\n",
    "\n",
    "# sample the image with the polygons to a feature  \n",
    "# collection, rename the class id columns from strings to \n",
    "# integers and add a column of random numbers in [0,1]\n",
    "trainTestData = image.sampleRegions(collection=table,\n",
    "                                    properties=['CLASS_ID'],\n",
    "                                    scale=15) \\\n",
    "    .remap(['0','1','2','3','4','5','6','7','8','9'],\n",
    "           [0,1,2,3,4,5,6,7,8,9],'CLASS_ID') \\\n",
    "    .randomColumn('rand',seed=12345) \n",
    "\n",
    "# filter on the random column to split into training and test\n",
    "# feature collections in the ration of 2:1\n",
    "trainData = trainTestData.filter(ee.Filter.lt('rand',0.67))\n",
    "testData = trainTestData.filter(ee.Filter.gte('rand',0.67))\n",
    "\n",
    "print 'train pixels: %i'%trainData.size().getInfo()\n",
    "print 'test pixels:  %i'%testData.size().getInfo()\n",
    "\n",
    "# train a naive Bayes classifier on training data   \n",
    "classifier = ee.Classifier.continuousNaiveBayes()\n",
    "trained = classifier.train(trainData,'CLASS_ID',\n",
    "                                   image.bandNames())\n",
    "   \n",
    "# test the trained classifier with the test data\n",
    "tested = testData.classify(trained)\n",
    "\n",
    "# generate a confusion matrix with the classified test data\n",
    "confusionmatrix = tested.errorMatrix('CLASS_ID',\n",
    "                                          'classification')\n",
    "\n",
    "print 'accuracy: %f'%confusionmatrix.accuracy().getInfo()\n",
    "print 'kappa:    %f'%confusionmatrix.kappa().getInfo()"
   ]
  },
  {
   "cell_type": "markdown",
   "metadata": {},
   "source": [
    "### Crossvalidation"
   ]
  },
  {
   "cell_type": "code",
   "execution_count": 5,
   "metadata": {},
   "outputs": [
    {
     "ename": "SyntaxError",
     "evalue": "Missing parentheses in call to 'print'. Did you mean print(usage)? (crossvalidate.py, line 52)",
     "output_type": "error",
     "traceback": [
      "\u001b[1;36m  File \u001b[1;32mE:\\Python_Projects\\CRC4Docker\\src\\scripts\\crossvalidate.py:52\u001b[1;36m\u001b[0m\n\u001b[1;33m    print usage\u001b[0m\n\u001b[1;37m          ^\u001b[0m\n\u001b[1;31mSyntaxError\u001b[0m\u001b[1;31m:\u001b[0m Missing parentheses in call to 'print'. Did you mean print(usage)?\n"
     ]
    },
    {
     "data": {
      "text/plain": [
       "<Figure size 432x288 with 0 Axes>"
      ]
     },
     "metadata": {},
     "output_type": "display_data"
    }
   ],
   "source": [
    "run scripts/crossvalidate -p [1,2,3,4] -a 6 -e 100 -L [10,10]  imagery/AST_20070501_pca.tif imagery/train.shp"
   ]
  },
  {
   "cell_type": "markdown",
   "metadata": {},
   "source": [
    "### Model comparison"
   ]
  },
  {
   "cell_type": "code",
   "execution_count": null,
   "metadata": {},
   "outputs": [],
   "source": [
    "run scripts/classify -p [1,2,3,4] -a 4 -e 5000 -L [10] imagery/AST_20070501_pca.tif imagery/train.shp"
   ]
  },
  {
   "cell_type": "code",
   "execution_count": null,
   "metadata": {},
   "outputs": [],
   "source": [
    "run scripts/classify -p [1,2,3,4] -a 1 imagery/AST_20070501_pca.tif imagery/train.shp"
   ]
  },
  {
   "cell_type": "code",
   "execution_count": null,
   "metadata": {},
   "outputs": [],
   "source": [
    "run scripts/mcnemar imagery/AST_20070501_pca_NNet(Congrad).tst imagery/AST_20070501_pca_MaxLike.tst"
   ]
  },
  {
   "cell_type": "code",
   "execution_count": null,
   "metadata": {},
   "outputs": [],
   "source": [
    "run scripts/classify -p [1,2,3,4] -a 7 imagery/AST_20070501_pca.tif imagery/train.shp"
   ]
  },
  {
   "cell_type": "code",
   "execution_count": null,
   "metadata": {},
   "outputs": [],
   "source": [
    "run scripts/mcnemar imagery/AST_20070501_pca_NNet(Congrad).tst imagery/AST_20070501_pca_SVM.tst"
   ]
  },
  {
   "cell_type": "code",
   "execution_count": null,
   "metadata": {},
   "outputs": [],
   "source": [
    "run scripts/classify -p [1,2,3,4] -a 6 -e 5000 -L [10] imagery/AST_20070501_pca.tif imagery/train.shp"
   ]
  },
  {
   "cell_type": "code",
   "execution_count": null,
   "metadata": {},
   "outputs": [],
   "source": [
    "run scripts/mcnemar imagery/AST_20070501_pca_NNet(Congrad).tst imagery/AST_20070501_pca_Dnn(tensorflow).tst"
   ]
  },
  {
   "cell_type": "markdown",
   "metadata": {},
   "source": [
    "## Adaptive boosting"
   ]
  },
  {
   "cell_type": "code",
   "execution_count": null,
   "metadata": {
    "scrolled": false
   },
   "outputs": [],
   "source": [
    "run scripts/adaboost -p [1,2,3,4,5,6]  -L 10 -n 75 imagery/AST_20070501_pca.tif  imagery/train.shp"
   ]
  },
  {
   "cell_type": "code",
   "execution_count": null,
   "metadata": {},
   "outputs": [],
   "source": [
    "ls imagery"
   ]
  },
  {
   "cell_type": "code",
   "execution_count": null,
   "metadata": {},
   "outputs": [],
   "source": [
    "run scripts/dispms -f /home/mort/python/CRC4Docker/src/imagery/AST_20070501_pca_class.tif -c"
   ]
  },
  {
   "cell_type": "markdown",
   "metadata": {},
   "source": [
    "## Hyperspectral image analysis"
   ]
  },
  {
   "cell_type": "code",
   "execution_count": 6,
   "metadata": {},
   "outputs": [
    {
     "ename": "AttributeError",
     "evalue": "'NoneType' object has no attribute 'RasterXSize'",
     "output_type": "error",
     "traceback": [
      "\u001b[1;31m---------------------------------------------------------------------------\u001b[0m",
      "\u001b[1;31mAttributeError\u001b[0m                            Traceback (most recent call last)",
      "\u001b[1;32me:\\Python_Projects\\CRC4Docker\\src\\Chapter7.ipynb Cell 27\u001b[0m in \u001b[0;36m<cell line: 7>\u001b[1;34m()\u001b[0m\n\u001b[0;32m      <a href='vscode-notebook-cell:/e%3A/Python_Projects/CRC4Docker/src/Chapter7.ipynb#X35sZmlsZQ%3D%3D?line=3'>4</a>\u001b[0m \u001b[39mimport\u001b[39;00m \u001b[39mmatplotlib\u001b[39;00m\u001b[39m.\u001b[39;00m\u001b[39mpyplot\u001b[39;00m \u001b[39mas\u001b[39;00m \u001b[39mplt\u001b[39;00m\n\u001b[0;32m      <a href='vscode-notebook-cell:/e%3A/Python_Projects/CRC4Docker/src/Chapter7.ipynb#X35sZmlsZQ%3D%3D?line=5'>6</a>\u001b[0m inDataset \u001b[39m=\u001b[39m gdal\u001b[39m.\u001b[39mOpen(\u001b[39m'\u001b[39m\u001b[39mmyimagery/97_radianz_registriert_voll\u001b[39m\u001b[39m'\u001b[39m,GA_ReadOnly)                       \n\u001b[1;32m----> <a href='vscode-notebook-cell:/e%3A/Python_Projects/CRC4Docker/src/Chapter7.ipynb#X35sZmlsZQ%3D%3D?line=6'>7</a>\u001b[0m cols \u001b[39m=\u001b[39m inDataset\u001b[39m.\u001b[39;49mRasterXSize\n\u001b[0;32m      <a href='vscode-notebook-cell:/e%3A/Python_Projects/CRC4Docker/src/Chapter7.ipynb#X35sZmlsZQ%3D%3D?line=7'>8</a>\u001b[0m rows \u001b[39m=\u001b[39m inDataset\u001b[39m.\u001b[39mRasterYSize    \n\u001b[0;32m      <a href='vscode-notebook-cell:/e%3A/Python_Projects/CRC4Docker/src/Chapter7.ipynb#X35sZmlsZQ%3D%3D?line=8'>9</a>\u001b[0m bands \u001b[39m=\u001b[39m inDataset\u001b[39m.\u001b[39mRasterCount\n",
      "\u001b[1;31mAttributeError\u001b[0m: 'NoneType' object has no attribute 'RasterXSize'"
     ]
    }
   ],
   "source": [
    "from osgeo import gdal\n",
    "from osgeo.gdalconst import GA_ReadOnly\n",
    "import numpy as np\n",
    "import matplotlib.pyplot as plt\n",
    "\n",
    "inDataset = gdal.Open('myimagery/97_radianz_registriert_voll',GA_ReadOnly)                       \n",
    "cols = inDataset.RasterXSize\n",
    "rows = inDataset.RasterYSize    \n",
    "bands = inDataset.RasterCount\n",
    "print (rows, cols, bands)"
   ]
  },
  {
   "cell_type": "code",
   "execution_count": 7,
   "metadata": {},
   "outputs": [
    {
     "ename": "NameError",
     "evalue": "name 'rows' is not defined",
     "output_type": "error",
     "traceback": [
      "\u001b[1;31m---------------------------------------------------------------------------\u001b[0m",
      "\u001b[1;31mNameError\u001b[0m                                 Traceback (most recent call last)",
      "\u001b[1;32me:\\Python_Projects\\CRC4Docker\\src\\Chapter7.ipynb Cell 28\u001b[0m in \u001b[0;36m<cell line: 1>\u001b[1;34m()\u001b[0m\n\u001b[1;32m----> <a href='vscode-notebook-cell:/e%3A/Python_Projects/CRC4Docker/src/Chapter7.ipynb#X36sZmlsZQ%3D%3D?line=0'>1</a>\u001b[0m Im \u001b[39m=\u001b[39m np\u001b[39m.\u001b[39mzeros((rows,cols,bands)) \n\u001b[0;32m      <a href='vscode-notebook-cell:/e%3A/Python_Projects/CRC4Docker/src/Chapter7.ipynb#X36sZmlsZQ%3D%3D?line=1'>2</a>\u001b[0m \u001b[39mfor\u001b[39;00m b \u001b[39min\u001b[39;00m \u001b[39mrange\u001b[39m(bands):\n\u001b[0;32m      <a href='vscode-notebook-cell:/e%3A/Python_Projects/CRC4Docker/src/Chapter7.ipynb#X36sZmlsZQ%3D%3D?line=2'>3</a>\u001b[0m     band \u001b[39m=\u001b[39m inDataset\u001b[39m.\u001b[39mGetRasterBand(b\u001b[39m+\u001b[39m\u001b[39m1\u001b[39m)\n",
      "\u001b[1;31mNameError\u001b[0m: name 'rows' is not defined"
     ]
    }
   ],
   "source": [
    "Im = np.zeros((rows,cols,bands)) \n",
    "for b in range(bands):\n",
    "    band = inDataset.GetRasterBand(b+1)\n",
    "    Im[:,:,b] = band.ReadAsArray(0,0,cols,rows)  "
   ]
  },
  {
   "cell_type": "code",
   "execution_count": null,
   "metadata": {},
   "outputs": [],
   "source": [
    "# spectral cut\n",
    "plt.plot(Im[300,300,:])\n",
    "plt.savefig('/home/mort/LaTeX/new projects/CRC4/Chapter7/fig7_6.eps',bbox_inches='tight')"
   ]
  },
  {
   "cell_type": "code",
   "execution_count": null,
   "metadata": {},
   "outputs": [],
   "source": [
    "run scripts/mnf.py myimagery/97_radianz_registriert_voll"
   ]
  },
  {
   "cell_type": "markdown",
   "metadata": {},
   "source": [
    "### Anomaly detection"
   ]
  },
  {
   "cell_type": "code",
   "execution_count": null,
   "metadata": {},
   "outputs": [],
   "source": [
    "run scripts/rx imagery/may0107"
   ]
  },
  {
   "cell_type": "code",
   "execution_count": null,
   "metadata": {},
   "outputs": [],
   "source": [
    "run scripts/dispms -f imagery/may0107_rx -e 1 -d [600,600,400,400]"
   ]
  },
  {
   "cell_type": "code",
   "execution_count": null,
   "metadata": {},
   "outputs": [],
   "source": [
    "run scripts/krx -s 2000 imagery/may0107"
   ]
  },
  {
   "cell_type": "code",
   "execution_count": null,
   "metadata": {},
   "outputs": [],
   "source": [
    "run scripts/dispms -f imagery/may0107_rx -e 2 -d [600,600,250,250] \\\n",
    "-F imagery/may0107_krx -E 2 -D [600,600,250,250] \\\n",
    "#-s '/home/mort/LaTeX/new projects/CRC4/Chapter7/fig7_8.eps'"
   ]
  },
  {
   "cell_type": "code",
   "execution_count": null,
   "metadata": {},
   "outputs": [],
   "source": []
  }
 ],
 "metadata": {
  "anaconda-cloud": {},
  "kernelspec": {
   "display_name": "Python 3.9.12 ('base')",
   "language": "python",
   "name": "python3"
  },
  "language_info": {
   "codemirror_mode": {
    "name": "ipython",
    "version": 3
   },
   "file_extension": ".py",
   "mimetype": "text/x-python",
   "name": "python",
   "nbconvert_exporter": "python",
   "pygments_lexer": "ipython3",
   "version": "3.9.12"
  },
  "vscode": {
   "interpreter": {
    "hash": "16f5b46f222e2a3e8d4adbf7141cae37b71ed37616e60735fa5d1164a1bc3ada"
   }
  }
 },
 "nbformat": 4,
 "nbformat_minor": 2
}
