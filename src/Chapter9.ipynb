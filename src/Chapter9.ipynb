{
 "cells": [
  {
   "cell_type": "markdown",
   "metadata": {},
   "source": [
    "# Examples for Chapter 9"
   ]
  },
  {
   "cell_type": "code",
   "execution_count": null,
   "metadata": {},
   "outputs": [],
   "source": [
    "import warnings\n",
    "# these are innocuous but irritating\n",
    "warnings.filterwarnings(\"ignore\", message=\"numpy.dtype size changed\")\n",
    "warnings.filterwarnings(\"ignore\", message=\"numpy.ufunc size changed\")\n",
    "%matplotlib inline"
   ]
  },
  {
   "cell_type": "code",
   "execution_count": null,
   "metadata": {},
   "outputs": [],
   "source": [
    "run auxil/subset -d [200,200,1000,1000] imagery/LT5_19980329.tif "
   ]
  },
  {
   "cell_type": "code",
   "execution_count": null,
   "metadata": {},
   "outputs": [],
   "source": [
    "run auxil/subset -d [200,200,1000,1000] imagery/LT5_19980516.tif "
   ]
  },
  {
   "cell_type": "code",
   "execution_count": null,
   "metadata": {},
   "outputs": [],
   "source": [
    "run scripts/dispms -f imagery/LT5_19980329_sub.tif -e 4 -p [4,5,7] \\\n",
    "-F imagery/LT5_19980516_sub.tif -E 4 -P [4,5,7] \\\n",
    "#-s '/home/mort/LaTeX/new projects/CRC4/Chapter9/fig9_1.eps'"
   ]
  },
  {
   "cell_type": "markdown",
   "metadata": {},
   "source": [
    "## Naive methods"
   ]
  },
  {
   "cell_type": "code",
   "execution_count": null,
   "metadata": {},
   "outputs": [],
   "source": [
    "import ee\n",
    "import IPython.display as disp\n",
    "\n",
    "ee.Initialize()\n",
    "\n",
    "im1 = ee.Image('users/mortcanty/CRC4/Chapter9/LT5_19980329_sub')\n",
    "im2 = ee.Image('users/mortcanty/CRC4/Chapter9/LT5_19980516_sub')\n",
    "ndvi1 = im1.normalizedDifference(['b4', 'b3'])\n",
    "ndvi2 = im2.normalizedDifference(['b4', 'b3'])\n",
    "url = ndvi1.subtract(ndvi2) \\\n",
    "   .getThumbURL({'min':-0.3,'max':0.3})\n",
    "disp.Image(url=url)"
   ]
  },
  {
   "cell_type": "markdown",
   "metadata": {},
   "source": [
    "## Principal components"
   ]
  },
  {
   "cell_type": "code",
   "execution_count": 2,
   "metadata": {},
   "outputs": [
    {
     "data": {
      "image/png": "[encoded data removed]",
      "text/plain": [
       "<Figure size 432x288 with 1 Axes>"
      ]
     },
     "metadata": {
      "needs_background": "light"
     },
     "output_type": "display_data"
    }
   ],
   "source": [
    "import numpy as np\n",
    "from osgeo import gdal\n",
    "from osgeo.gdalconst import GA_ReadOnly\n",
    "import matplotlib.pyplot as plt\n",
    "\n",
    "gdal.AllRegister()\n",
    "infile = 'imagery_initial/LT5_19980329.tif'                 \n",
    "inDataset = gdal.Open(infile,GA_ReadOnly)     \n",
    "cols = inDataset.RasterXSize\n",
    "rows = inDataset.RasterYSize    \n",
    "band = inDataset.GetRasterBand(4)  \n",
    "G1 = band.ReadAsArray(0,0,cols,rows).flatten()\n",
    "infile = 'imagery_initial/LT5_19980516.tif'                 \n",
    "inDataset = gdal.Open(infile,GA_ReadOnly)       \n",
    "band = inDataset.GetRasterBand(4)  \n",
    "G2 = band.ReadAsArray(0,0,cols,rows).flatten()\n",
    "idx = np.random.randint(0,rows*cols,10000)\n",
    "p = plt.plot(G1[idx],G2[idx],'.')\n",
    "#plt.savefig('/home/mort/LaTeX/new projects/CRC4/Chapter9/fig9_3.eps',bbox_inches='tight')"
   ]
  },
  {
   "cell_type": "markdown",
   "metadata": {},
   "source": [
    "### Iterated PCA"
   ]
  },
  {
   "cell_type": "code",
   "execution_count": null,
   "metadata": {},
   "outputs": [],
   "source": [
    "run scripts/ex9_1 imagery/LT5_19980329_sub.tif imagery/LT5_19980516_sub.tif"
   ]
  },
  {
   "cell_type": "markdown",
   "metadata": {},
   "source": [
    "### Kernel PCA"
   ]
  },
  {
   "cell_type": "code",
   "execution_count": null,
   "metadata": {},
   "outputs": [],
   "source": [
    "run scripts/dispms -f imagery/traffic1.jpg -p [1,2,3] -e 3 -F imagery/traffic2.jpg -P [1,2,3] -E 3 \\\n",
    "#-s '/home/mort/LaTeX/new projects/CRC4/Chapter9/fig9_6.eps'"
   ]
  },
  {
   "cell_type": "code",
   "execution_count": null,
   "metadata": {},
   "outputs": [],
   "source": [
    "import numpy as np\n",
    "from osgeo import gdal\n",
    "from osgeo.gdalconst import GA_ReadOnly, GDT_Float32\n",
    "\n",
    "gdal.AllRegister()\n",
    "G = np.zeros((1000,1000,2))\n",
    "inDataset = gdal.Open('imagery/traffic1.jpg',GA_ReadOnly)\n",
    "G[:,:,0] = inDataset.GetRasterBand(1).ReadAsArray(0,0,1000,1000).astype(float)\n",
    "inDataset = gdal.Open('imagery/traffic2.jpg',GA_ReadOnly)\n",
    "G[:,:,1] = inDataset.GetRasterBand(1).ReadAsArray(0,0,1000,1000).astype(float)\n",
    "driver = gdal.GetDriverByName('GTiff')\n",
    "outDataset = driver.Create('imagery/traffic_bitemp.tif',1000,1000,2,GDT_Float32)\n",
    "for k in range(2):        \n",
    "    outBand = outDataset.GetRasterBand(k+1)\n",
    "    outBand.WriteArray(G[:,:,k],0,0) \n",
    "    outBand.FlushCache() \n",
    "G[:,:,1] = G[:,:,1]**2  \n",
    "outDataset = driver.Create('imagery/traffic_bitemp_nonlin.tif',1000,1000,2,GDT_Float32)\n",
    "for k in range(2):        \n",
    "    outBand = outDataset.GetRasterBand(k+1)\n",
    "    outBand.WriteArray(G[:,:,k],0,0) \n",
    "    outBand.FlushCache() \n",
    "inDataset=None\n",
    "outDataset=None"
   ]
  },
  {
   "cell_type": "code",
   "execution_count": null,
   "metadata": {},
   "outputs": [],
   "source": [
    "run scripts/pca imagery/traffic_bitemp.tif"
   ]
  },
  {
   "cell_type": "code",
   "execution_count": null,
   "metadata": {},
   "outputs": [],
   "source": [
    "run scripts/kpca  imagery/traffic_bitemp.tif "
   ]
  },
  {
   "cell_type": "code",
   "execution_count": null,
   "metadata": {},
   "outputs": [],
   "source": [
    "run scripts/dispms -f imagery/traffic_bitemp_pca.tif -e 2 -p [2,2,2] \\\n",
    "-F imagery/traffic_bitemp_kpca.tif -E 2 -P [2,2,2] \\\n",
    "#-s '/home/mort/LaTeX/new projects/CRC4/Chapter9/fig9_7.eps'"
   ]
  },
  {
   "cell_type": "code",
   "execution_count": null,
   "metadata": {},
   "outputs": [],
   "source": [
    "run scripts/pca imagery/traffic_bitemp_nonlin.tif"
   ]
  },
  {
   "cell_type": "code",
   "execution_count": null,
   "metadata": {},
   "outputs": [],
   "source": [
    "run scripts/kpca imagery/traffic_bitemp_nonlin.tif "
   ]
  },
  {
   "cell_type": "code",
   "execution_count": null,
   "metadata": {},
   "outputs": [],
   "source": [
    "run scripts/dispms -f imagery/traffic_bitemp_nonlin_pca.tif -e 2 -p [2,2,2] \\\n",
    "-F imagery/traffic_bitemp_nonlin_kpca.tif -E 2 -P [5,5,5] \\\n",
    "#-s '/home/mort/LaTeX/new projects/CRC4/Chapter9/fig9_8.eps'"
   ]
  },
  {
   "cell_type": "markdown",
   "metadata": {},
   "source": [
    "## Multivariate Alteration Detection (MAD)"
   ]
  },
  {
   "cell_type": "code",
   "execution_count": null,
   "metadata": {
    "scrolled": false
   },
   "outputs": [],
   "source": [
    "# Run the iMAD transformation\n",
    "%run scripts/iMad -i 50 -d [0,0,600,600] imagery/LT5_19980329_sub.tif \\\n",
    "                         imagery/LT5_19980516_sub.tif\n",
    " Set a significance level and calculate change map\n",
    "%run scripts/iMadmap -m \\\n",
    "imagery/MAD(LT5_19980329_sub-LT5_19980516_sub).tif 0.0001"
   ]
  },
  {
   "cell_type": "code",
   "execution_count": null,
   "metadata": {},
   "outputs": [],
   "source": [
    "run scripts/dispms -f imagery/MAD(LT5_19980329_sub-LT5_19980516_sub)_cmap.tif -e 3 -p [1,1,1] \\\n",
    "#-s '/home/mort/LaTeX/new projects/CRC4/Chapter9/fig9_9.eps'"
   ]
  },
  {
   "cell_type": "code",
   "execution_count": null,
   "metadata": {},
   "outputs": [],
   "source": [
    "run scripts/dispms -f imagery/LE7_20010626 -e 3 -p [4,5,6] \\\n",
    "-F imagery/LE7_20010829 -E 3  -P [4,5,6] \\\n",
    "#-s '/home/mort/LaTeX/new projects/CRC4/Chapter9/fig9_11.eps'"
   ]
  },
  {
   "cell_type": "code",
   "execution_count": null,
   "metadata": {},
   "outputs": [],
   "source": [
    "%run scripts/iMad imagery/LE7_20010626 imagery/LE7_20010829\n",
    "%run scripts/iMadmap imagery/MAD(LE7_20010626-LE7_20010829) 0.0001 "
   ]
  },
  {
   "cell_type": "code",
   "execution_count": null,
   "metadata": {},
   "outputs": [],
   "source": [
    "run scripts/dispms -f imagery/MAD(LE7_20010626-LE7_20010829) -e 2 -p [1,1,1] \\\n",
    "-F imagery/MAD(LE7_20010626-LE7_20010829) -E 2 -P [3,3,3] \\\n",
    "#-s '/home/mort/LaTeX/new projects/CRC4/Chapter9/fig9_13.eps'"
   ]
  },
  {
   "cell_type": "code",
   "execution_count": null,
   "metadata": {},
   "outputs": [],
   "source": [
    "run scripts/dispms -f imagery/MAD(LE7_20010626-LE7_20010829)_cmap -e 3 -p [1,2,3] \\\n",
    "#-s '/home/mort/LaTeX/new projects/CRC4/Chapter9/fig9_14.eps'"
   ]
  },
  {
   "cell_type": "code",
   "execution_count": null,
   "metadata": {},
   "outputs": [],
   "source": [
    "run scripts/em -K 4  imagery/MAD(LE7_20010626-LE7_20010829)"
   ]
  },
  {
   "cell_type": "code",
   "execution_count": null,
   "metadata": {},
   "outputs": [],
   "source": [
    "%run scripts/dispms -f imagery/MAD(LE7_20010626-LE7_20010829)_em -c -d [400,0,200,200] \\\n",
    "-F imagery/LE7_20010829 -E 1 -D [400,0,200,200] -P [4,4,4] \\\n",
    "#-s '/home/mort/LaTeX/new projects/CRC4/Chapter9/fig9_15.eps'"
   ]
  },
  {
   "cell_type": "markdown",
   "metadata": {},
   "source": [
    "## MAD on the Google Earth Engine"
   ]
  },
  {
   "cell_type": "code",
   "execution_count": null,
   "metadata": {},
   "outputs": [],
   "source": [
    "import ee, math, time\n",
    "from ipyleaflet import (Map,DrawControl,TileLayer)\n",
    "from auxil.eeMad import imad\n",
    "ee.Initialize()\n",
    "\n",
    "def handle_draw(self, action, geo_json):\n",
    "    global poly\n",
    "    if action == 'created':\n",
    "        coords =  geo_json['geometry']['coordinates']\n",
    "        poly = ee.Geometry.Polygon(coords)\n",
    "        \n",
    "dc = DrawControl()\n",
    "dc.on_draw(handle_draw)\n",
    "\n",
    "def GetTileLayerUrl(ee_image_object):\n",
    "  map_id = ee.Image(ee_image_object).getMapId()\n",
    "  tile_url_template = \"https://earthengine.googleapis.com/map/{mapid}/{{z}}/{{x}}/{{y}}?token={token}\"\n",
    "  return tile_url_template.format(**map_id)"
   ]
  },
  {
   "cell_type": "markdown",
   "metadata": {},
   "source": [
    "### Draw the map"
   ]
  },
  {
   "cell_type": "code",
   "execution_count": null,
   "metadata": {
    "scrolled": false
   },
   "outputs": [],
   "source": [
    "m = Map(center=[50.9, 6.4], zoom=11)\n",
    "m.add_control(dc)\n",
    "\n",
    "m"
   ]
  },
  {
   "cell_type": "markdown",
   "metadata": {},
   "source": [
    "### iMAD wrapper function"
   ]
  },
  {
   "cell_type": "code",
   "execution_count": null,
   "metadata": {},
   "outputs": [],
   "source": [
    "def iMad(cid,poly,sd1,ed1,sd2,ed2,bns,maxitr):\n",
    "    collection = ee.ImageCollection(cid) \\\n",
    "         .filterBounds(poly) \\\n",
    "         .filterDate(ee.Date(sd1), ee.Date(ed1)) \\\n",
    "         .sort('system:time_start',False)\n",
    "    image1 = ee.Image(collection.first()).select(bns)\n",
    "    collection = ee.ImageCollection(cid) \\\n",
    "         .filterBounds(poly) \\\n",
    "         .filterDate(ee.Date(sd2), ee.Date(ed2)) \\\n",
    "         .sort('system:time_start',False)                   \n",
    "    image2 = ee.Image(collection.first()).select(bns) \n",
    "    image2 = image2.register(image1,60)\n",
    "    inputlist = ee.List.sequence(1,maxitr)\n",
    "    first = ee.Dictionary({'done':ee.Number(0),\n",
    "          'image':image1.addBands(image2).clip(poly),\n",
    "          'allrhos': [ee.List.sequence(1,len(bns))],\n",
    "          'chi2':ee.Image.constant(0),\n",
    "          'MAD':ee.Image.constant(0)}) \n",
    "    madnames = ['MAD'+str(i+1) for i in range(len(bns))]\n",
    "#  run the algorithm    \n",
    "    result = ee.Dictionary(inputlist.iterate(imad,first))                \n",
    "    MAD = ee.Image(result.get('MAD')).rename(madnames)\n",
    "    return MAD"
   ]
  },
  {
   "cell_type": "markdown",
   "metadata": {},
   "source": [
    "### Input data"
   ]
  },
  {
   "cell_type": "code",
   "execution_count": null,
   "metadata": {},
   "outputs": [],
   "source": [
    "collectionid = 'LANDSAT/LE07/C01/T1_RT_TOA'\n",
    "bandNames = ['B1','B2','B3','B4','B5','B7']\n",
    "startDate1 = '2001-06-25'\n",
    "endDate1 = '2001-06-27'\n",
    "startDate2 = '2001-08-28'\n",
    "endDate2 = '2001-08-30'\n",
    "maxitr = 50\n",
    "MAD = iMad(collectionid,poly,startDate1,\n",
    "           endDate1,startDate2,endDate2,\n",
    "           bandNames,maxitr)"
   ]
  },
  {
   "cell_type": "markdown",
   "metadata": {},
   "source": [
    "### Display on map"
   ]
  },
  {
   "cell_type": "code",
   "execution_count": null,
   "metadata": {},
   "outputs": [],
   "source": [
    "m.add_layer(\n",
    "    TileLayer(url=GetTileLayerUrl(\n",
    "        MAD.select('MAD1') \\\n",
    "        .visualize(min=-5, max=5)\n",
    "    )\n",
    "))"
   ]
  },
  {
   "cell_type": "markdown",
   "metadata": {},
   "source": [
    "### Export to assets"
   ]
  },
  {
   "cell_type": "code",
   "execution_count": null,
   "metadata": {},
   "outputs": [],
   "source": [
    "assexportname = 'users/mortcanty/imad/trail1'\n",
    "assexport = ee.batch.Export.image.toAsset(MAD,\n",
    "           description='assetExportTask', \n",
    "           assetId=assexportname,scale=30,maxPixels=1e9)\n",
    "assexportid = str(assexport.id)\n",
    "print '****Exporting to Assets, task id: %s'%assexportid\n",
    "assexport.start() "
   ]
  },
  {
   "cell_type": "markdown",
   "metadata": {},
   "source": [
    "## Polarimetric SAR change detection"
   ]
  },
  {
   "cell_type": "code",
   "execution_count": null,
   "metadata": {},
   "outputs": [],
   "source": [
    "!cat scripts/run_sar_seq.sh"
   ]
  },
  {
   "cell_type": "code",
   "execution_count": null,
   "metadata": {},
   "outputs": [],
   "source": [
    "!scripts/run_sar_seqQ.sh S1A imagery/ 12 0.0001"
   ]
  },
  {
   "cell_type": "code",
   "execution_count": null,
   "metadata": {},
   "outputs": [],
   "source": [
    "run scripts/dispms -f imagery/S1A_IW_SLC__1SDV_20141108T054351_20141108T054421_003186_003AB4_B367.tif -p [4,1,1] \\\n",
    "#-s '/home/mort/LaTeX/new projects/CRC4/Chapter9/fig9_17.eps'"
   ]
  },
  {
   "cell_type": "code",
   "execution_count": null,
   "metadata": {},
   "outputs": [],
   "source": [
    " run scripts/dispms -f  imagery/sarseqQ_cmap.tif -c -d [600,200,400,400] \\\n",
    "#-s '/home/mort/LaTeX/new projects/CRC4/Chapter9/fig9_18.eps'"
   ]
  },
  {
   "cell_type": "code",
   "execution_count": null,
   "metadata": {},
   "outputs": [],
   "source": [
    "run scripts/dispms -f  imagery/sarseq_cmap.tif -c -d [600,200,400,400]"
   ]
  },
  {
   "cell_type": "code",
   "execution_count": null,
   "metadata": {},
   "outputs": [],
   "source": [
    "!scripts/run_sar_seq.sh RS2 myimagery/ 12 0.0001"
   ]
  },
  {
   "cell_type": "code",
   "execution_count": null,
   "metadata": {
    "scrolled": false
   },
   "outputs": [],
   "source": [
    "run scripts/dispms -f myimagery/sarseq_cmap.tif -c -d [400,400,200,200] "
   ]
  },
  {
   "cell_type": "markdown",
   "metadata": {},
   "source": [
    "## Sequential SAR change detection on the GEE"
   ]
  },
  {
   "cell_type": "code",
   "execution_count": null,
   "metadata": {},
   "outputs": [],
   "source": [
    "from auxil.eeSar_seq import run\n",
    "run()"
   ]
  },
  {
   "cell_type": "markdown",
   "metadata": {},
   "source": [
    "## Radiometric normalization"
   ]
  },
  {
   "cell_type": "code",
   "execution_count": null,
   "metadata": {},
   "outputs": [],
   "source": [
    "run scripts/dispms  -f imagery/AST_20010409 -e 1 -p [1,2,3] \\\n",
    "-F imagery/AST_20050911 -E 1 -P [1,2,3] \\\n",
    "#-s '/home/mort/LaTeX/new projects/CRC4/Chapter9/fig9_24.eps'"
   ]
  },
  {
   "cell_type": "code",
   "execution_count": null,
   "metadata": {},
   "outputs": [],
   "source": [
    "run scripts/iMad -p [1,2,3] imagery/AST_20010409 imagery/AST_20050911"
   ]
  },
  {
   "cell_type": "code",
   "execution_count": null,
   "metadata": {},
   "outputs": [],
   "source": [
    "run scripts/radcal -p [1,2,3] imagery/MAD(AST_20010409-AST_20050911)"
   ]
  },
  {
   "cell_type": "code",
   "execution_count": null,
   "metadata": {},
   "outputs": [],
   "source": [
    "run scripts/dispms  -f imagery/AST_20010409 -e 1 -p [1,2,3] \\\n",
    "-F imagery/AST_20050911_norm -E 1 -P [1,2,3] \\\n",
    "#-s '/home/mort/LaTeX/new projects/CRC4/Chapter9/fig9_25.eps'"
   ]
  },
  {
   "cell_type": "markdown",
   "metadata": {},
   "source": [
    "### Code for Exercise 5"
   ]
  },
  {
   "cell_type": "code",
   "execution_count": null,
   "metadata": {},
   "outputs": [],
   "source": [
    "import numpy as np\n",
    "from osgeo import gdal\n",
    "from osgeo.gdalconst import GA_ReadOnly, GDT_Float32\n",
    "\n",
    "im1 = 'imagery/LE7_20010626'\n",
    "im2 = 'imagery/LE7_20010829'\n",
    "im2_toy = 'imagery/LE7_20010829_toy'\n",
    "dim = 400\n",
    "gdal.AllRegister()                 \n",
    "inDataset1 = gdal.Open(im1,GA_ReadOnly) \n",
    "inDataset2 = gdal.Open(im2,GA_ReadOnly)\n",
    "cols = inDataset1.RasterXSize\n",
    "rows = inDataset1.RasterYSize \n",
    "bands = inDataset1.RasterCount\n",
    "G1 = np.zeros((rows,cols,bands))\n",
    "G2 = np.zeros((rows,cols,bands))\n",
    "for k in range(bands):\n",
    "    band = inDataset1.GetRasterBand(k+1)  \n",
    "    G1[:,:,k] = band.ReadAsArray(0,0,cols,rows)\n",
    "    band = inDataset2.GetRasterBand(k+1)  \n",
    "    G2[:,:,k] = band.ReadAsArray(0,0,cols,rows)\n",
    "G2[:dim,:dim,:] = G1[:dim,:dim,:] + \\\n",
    "               0.1*np.random.randn(dim,dim,bands)\n",
    "driver = inDataset1.GetDriver()\n",
    "outDataset = driver \\\n",
    "   .Create(im2_toy,cols,rows,bands,GDT_Float32)\n",
    "for k in range(bands):        \n",
    "            outBand = outDataset.GetRasterBand(k+1)\n",
    "            outBand.WriteArray(G2[:,:,k],0,0) \n",
    "            outBand.FlushCache() "
   ]
  },
  {
   "cell_type": "code",
   "execution_count": null,
   "metadata": {},
   "outputs": [],
   "source": [
    "run scripts/dispms -f imagery/LE7_20010829 -e 3 -p [4,5,6] -F imagery/LE7_20010829_toy -E 3 -P [4,5,6] "
   ]
  },
  {
   "cell_type": "code",
   "execution_count": null,
   "metadata": {},
   "outputs": [],
   "source": []
  }
 ],
 "metadata": {
  "anaconda-cloud": {},
  "kernelspec": {
   "display_name": "Python 3.9.12 ('base')",
   "language": "python",
   "name": "python3"
  },
  "language_info": {
   "codemirror_mode": {
    "name": "ipython",
    "version": 3
   },
   "file_extension": ".py",
   "mimetype": "text/x-python",
   "name": "python",
   "nbconvert_exporter": "python",
   "pygments_lexer": "ipython3",
   "version": "3.9.12"
  },
  "vscode": {
   "interpreter": {
    "hash": "16f5b46f222e2a3e8d4adbf7141cae37b71ed37616e60735fa5d1164a1bc3ada"
   }
  }
 },
 "nbformat": 4,
 "nbformat_minor": 2
}
