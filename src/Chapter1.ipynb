{
 "cells": [
  {
   "cell_type": "markdown",
   "metadata": {},
   "source": [
    "# Notebook Examples for Chapter 1"
   ]
  },
  {
   "cell_type": "code",
   "execution_count": null,
   "metadata": {},
   "outputs": [],
   "source": [
    "!pip install google-api-python-client\n",
    "!pip install pycryptodome\n",
    "!pip install earthengine-api\n",
    "!set http_proxy=http://127.0.0.1:10809\n",
    "!set https_proxy=https://127.0.0.1:10809"
   ]
  },
  {
   "cell_type": "code",
   "execution_count": null,
   "metadata": {},
   "outputs": [],
   "source": [
    "import os\n",
    "os.environ['http_proxy'] = \"http://127.0.0.1:10809\"\n",
    "os.environ['https_proxy'] = \"https://127.0.0.1:10809\"\n",
    "import ee\n",
    "# Initialize the GEE API\n",
    "try:\n",
    "    ee.Initialize()\n",
    "except Exception as e:\n",
    "    ee.Authenticate()\n",
    "    ee.Initialize()\n",
    "import ee"
   ]
  },
  {
   "cell_type": "code",
   "execution_count": null,
   "metadata": {},
   "outputs": [],
   "source": [
    "import warnings\n",
    "# these are innocuous but irritating\n",
    "warnings.filterwarnings(\"ignore\", message=\"numpy.dtype size changed\")\n",
    "warnings.filterwarnings(\"ignore\", message=\"numpy.ufunc size changed\")\n",
    "%matplotlib inline"
   ]
  },
  {
   "cell_type": "markdown",
   "metadata": {},
   "source": [
    "### A Synthetic Aperture Image (Sentinel-1)"
   ]
  },
  {
   "cell_type": "code",
   "execution_count": null,
   "metadata": {},
   "outputs": [],
   "source": [
    "import IPython.display as disp\n",
    "import ee\n",
    "\n",
    "ee.Initialize()\n",
    "\n",
    "minlon = 6.31\n",
    "minlat = 50.83\n",
    "maxlon = 6.58\n",
    "maxlat = 50.95\n",
    "\n",
    "rect = ee.Geometry.Rectangle([minlon,minlat,maxlon,maxlat])\n",
    "collection = ee.ImageCollection('COPERNICUS/S1_GRD') \\\n",
    "  .filterBounds(rect) \\\n",
    "  .filterDate(ee.Date('2017-05-01'), ee.Date('2017-06-01')) \\\n",
    "  .filter(ee.Filter.eq('transmitterReceiverPolarisation', ['VV','VH'])) \\\n",
    "  .filter(ee.Filter.eq('resolution_meters', 10)) \\\n",
    "  .filter(ee.Filter.eq('instrumentMode', 'IW')) \n",
    "    \n",
    "image = ee.Image(collection.first()).clip(rect)                        \n",
    "url = image.select('VV').getThumbURL({'min':-20,'max':0})\n",
    "disp.Image(url=url)"
   ]
  },
  {
   "cell_type": "code",
   "execution_count": 3,
   "metadata": {},
   "outputs": [
    {
     "ename": "AttributeError",
     "evalue": "'NoneType' object has no attribute 'RasterXSize'",
     "output_type": "error",
     "traceback": [
      "\u001b[1;31m---------------------------------------------------------------------------\u001b[0m",
      "\u001b[1;31mAttributeError\u001b[0m                            Traceback (most recent call last)",
      "File \u001b[1;32mE:\\Python_Projects\\CRC4Docker\\src\\scripts\\ex1_1.py:32\u001b[0m, in \u001b[0;36m<module>\u001b[1;34m\u001b[0m\n\u001b[0;32m     30\u001b[0m infile \u001b[39m=\u001b[39m sys\u001b[39m.\u001b[39margv[\u001b[39m1\u001b[39m]\n\u001b[0;32m     31\u001b[0m bandnumber \u001b[39m=\u001b[39m \u001b[39mint\u001b[39m(sys\u001b[39m.\u001b[39margv[\u001b[39m2\u001b[39m])   \n\u001b[1;32m---> 32\u001b[0m disp(infile,bandnumber)\n",
      "File \u001b[1;32mE:\\Python_Projects\\CRC4Docker\\src\\scripts\\ex1_1.py:12\u001b[0m, in \u001b[0;36mdisp\u001b[1;34m(infile, bandnumber)\u001b[0m\n\u001b[0;32m     10\u001b[0m gdal\u001b[39m.\u001b[39mAllRegister()             \n\u001b[0;32m     11\u001b[0m inDataset \u001b[39m=\u001b[39m gdal\u001b[39m.\u001b[39mOpen(infile,GA_ReadOnly)     \n\u001b[1;32m---> 12\u001b[0m cols \u001b[39m=\u001b[39m inDataset\u001b[39m.\u001b[39;49mRasterXSize \n\u001b[0;32m     13\u001b[0m rows \u001b[39m=\u001b[39m inDataset\u001b[39m.\u001b[39mRasterYSize \n\u001b[0;32m     14\u001b[0m bands \u001b[39m=\u001b[39m inDataset\u001b[39m.\u001b[39mRasterCount   \n",
      "\u001b[1;31mAttributeError\u001b[0m: 'NoneType' object has no attribute 'RasterXSize'"
     ]
    }
   ],
   "source": [
    "run scripts/ex1_1 imagery_initial/AST_20070501 3"
   ]
  },
  {
   "cell_type": "markdown",
   "metadata": {},
   "source": [
    "### Covariance matrix of a multispectral image"
   ]
  },
  {
   "cell_type": "code",
   "execution_count": 1,
   "metadata": {},
   "outputs": [
    {
     "name": "stdout",
     "output_type": "stream",
     "text": [
      "[[ 407.13229638  442.18038527  -78.32374081]\n",
      " [ 442.18038527  493.57036427 -120.64197555]\n",
      " [ -78.32374081 -120.64197555  438.95704379]]\n"
     ]
    }
   ],
   "source": [
    "from osgeo import gdal\n",
    "from osgeo.gdalconst import GA_ReadOnly\n",
    "import numpy as np\n",
    "\n",
    "gdal.AllRegister()\n",
    "infile = 'imagery_initial/AST_20070501'                \n",
    "inDataset = gdal.Open(infile,GA_ReadOnly)     \n",
    "cols = inDataset.RasterXSize\n",
    "rows = inDataset.RasterYSize    \n",
    "\n",
    "#  data matrix\n",
    "G = np.zeros((rows*cols,3))                                   \n",
    "for b in range(3):\n",
    "    band = inDataset.GetRasterBand(b+1)\n",
    "    tmp = band.ReadAsArray(0,0,cols,rows).ravel()\n",
    "    G[:,b] = tmp - np.mean(tmp)\n",
    "    \n",
    "#  covariance matrix\n",
    "C = np.mat(G).T*np.mat(G)/(cols*rows-1)  \n",
    "print (C)  "
   ]
  },
  {
   "cell_type": "markdown",
   "metadata": {},
   "source": [
    "### Eigenvalues and eigenvectors of the covariance matrix"
   ]
  },
  {
   "cell_type": "code",
   "execution_count": 2,
   "metadata": {},
   "outputs": [
    {
     "ename": "SyntaxError",
     "evalue": "Missing parentheses in call to 'print'. Did you mean print(eigenvalues)? (636282671.py, line 2)",
     "output_type": "error",
     "traceback": [
      "\u001b[1;36m  Input \u001b[1;32mIn [2]\u001b[1;36m\u001b[0m\n\u001b[1;33m    print eigenvalues\u001b[0m\n\u001b[1;37m          ^\u001b[0m\n\u001b[1;31mSyntaxError\u001b[0m\u001b[1;31m:\u001b[0m Missing parentheses in call to 'print'. Did you mean print(eigenvalues)?\n"
     ]
    }
   ],
   "source": [
    "eigenvalues, eigenvectors = np.linalg.eigh(C)\n",
    "print eigenvalues\n",
    "print eigenvectors"
   ]
  },
  {
   "cell_type": "code",
   "execution_count": null,
   "metadata": {},
   "outputs": [],
   "source": [
    "U = eigenvectors\n",
    "print U.T*U"
   ]
  },
  {
   "cell_type": "markdown",
   "metadata": {},
   "source": [
    "### Singular value decomposition"
   ]
  },
  {
   "cell_type": "code",
   "execution_count": null,
   "metadata": {},
   "outputs": [],
   "source": [
    "import numpy as np\n",
    "b = np.mat([1,2,3])\n",
    "# an almost singular matrix\n",
    "A = b.T*b + np.random.rand(3,3)*0.001\n",
    "# a symmetric almost singular matrix\n",
    "A = A + A.T\n",
    "print 'determinant: %f'%np.linalg.det(A)\n",
    "# singular value decomposition\n",
    "U,Lambda,V = np.linalg.svd(A)\n",
    "print 'Lambda = %s'%str(Lambda)\n",
    "print 'U = %s'%str(U)\n",
    "print 'V = %s'%str(V)"
   ]
  },
  {
   "cell_type": "markdown",
   "metadata": {},
   "source": [
    "### Principal components analysis"
   ]
  },
  {
   "cell_type": "code",
   "execution_count": null,
   "metadata": {},
   "outputs": [],
   "source": [
    "run scripts/ex1_2 imagery/AST_20070501 imagery/pca.tif"
   ]
  },
  {
   "cell_type": "code",
   "execution_count": null,
   "metadata": {},
   "outputs": [],
   "source": [
    "run scripts/dispms -f 'imagery/pca.tif' -p [1,2,3] -e 4"
   ]
  }
 ],
 "metadata": {
  "kernelspec": {
   "display_name": "Python 3.9.12 ('base')",
   "language": "python",
   "name": "python3"
  },
  "language_info": {
   "codemirror_mode": {
    "name": "ipython",
    "version": 3
   },
   "file_extension": ".py",
   "mimetype": "text/x-python",
   "name": "python",
   "nbconvert_exporter": "python",
   "pygments_lexer": "ipython3",
   "version": "3.9.12"
  },
  "vscode": {
   "interpreter": {
    "hash": "16f5b46f222e2a3e8d4adbf7141cae37b71ed37616e60735fa5d1164a1bc3ada"
   }
  }
 },
 "nbformat": 4,
 "nbformat_minor": 2
}
